{
 "cells": [
  {
   "cell_type": "markdown",
   "metadata": {},
   "source": [
    "**Multilevel/Hierarchical Modeling** are often known as **Mixed Effect Models**. It is also called mixed effetcs because it contains **random effects** and **fixed effects**. What this means will be described later in the book.\n",
    "\n",
    "Multilevel refers to several levels that a model consists of and that can be ordered hierarchical (but do not have to have a hierarchical order).\n",
    "For example could the outcome variable *grade of a student* be predicted by  variables at the level of the student (*age*, *IQ*...) but also by variables at the level of the school itself (*socioeconomic status of the neighborhood*, *big city vs small city vs town*...).\n",
    "\n",
    "(...continue at \"Motivation for multilevel modeling\"...)\n"
   ]
  },
  {
   "cell_type": "markdown",
   "metadata": {},
   "source": []
  }
 ],
 "metadata": {
  "anaconda-cloud": {},
  "kernelspec": {
   "display_name": "Python [conda root]",
   "language": "python",
   "name": "conda-root-py"
  },
  "language_info": {
   "codemirror_mode": {
    "name": "ipython",
    "version": 3
   },
   "file_extension": ".py",
   "mimetype": "text/x-python",
   "name": "python",
   "nbconvert_exporter": "python",
   "pygments_lexer": "ipython3",
   "version": "3.5.2"
  }
 },
 "nbformat": 4,
 "nbformat_minor": 1
}
